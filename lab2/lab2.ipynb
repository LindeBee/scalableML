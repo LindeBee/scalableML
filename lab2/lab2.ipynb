{
 "metadata": {
  "language_info": {
   "codemirror_mode": {
    "name": "ipython",
    "version": 3
   },
   "file_extension": ".py",
   "mimetype": "text/x-python",
   "name": "python",
   "nbconvert_exporter": "python",
   "pygments_lexer": "ipython3",
   "version": "3.8.3-final"
  },
  "orig_nbformat": 2,
  "kernelspec": {
   "name": "python3",
   "display_name": "Python 3"
  }
 },
 "nbformat": 4,
 "nbformat_minor": 2,
 "cells": [
  {
   "cell_type": "code",
   "execution_count": 2,
   "metadata": {},
   "outputs": [],
   "source": [
    "import tensorflow as tf\n",
    "import numpy as np\n",
    "import matplotlib\n",
    "from matplotlib import pyplot as plt\n",
    "import pandas as pd"
   ]
  },
  {
   "cell_type": "code",
   "execution_count": 26,
   "metadata": {},
   "outputs": [
    {
     "output_type": "stream",
     "name": "stdout",
     "text": [
      "number of captions: 40455\n"
     ]
    },
    {
     "output_type": "execute_result",
     "data": {
      "text/plain": [
       "                       image  \\\n",
       "0  1000268201_693b08cb0e.jpg   \n",
       "1  1000268201_693b08cb0e.jpg   \n",
       "2  1000268201_693b08cb0e.jpg   \n",
       "3  1000268201_693b08cb0e.jpg   \n",
       "4  1000268201_693b08cb0e.jpg   \n",
       "\n",
       "                                             caption  \n",
       "0  A child in a pink dress is climbing up a set o...  \n",
       "1              A girl going into a wooden building .  \n",
       "2   A little girl climbing into a wooden playhouse .  \n",
       "3  A little girl climbing the stairs to her playh...  \n",
       "4  A little girl in a pink dress going into a woo...  "
      ],
      "text/html": "<div>\n<style scoped>\n    .dataframe tbody tr th:only-of-type {\n        vertical-align: middle;\n    }\n\n    .dataframe tbody tr th {\n        vertical-align: top;\n    }\n\n    .dataframe thead th {\n        text-align: right;\n    }\n</style>\n<table border=\"1\" class=\"dataframe\">\n  <thead>\n    <tr style=\"text-align: right;\">\n      <th></th>\n      <th>image</th>\n      <th>caption</th>\n    </tr>\n  </thead>\n  <tbody>\n    <tr>\n      <th>0</th>\n      <td>1000268201_693b08cb0e.jpg</td>\n      <td>A child in a pink dress is climbing up a set o...</td>\n    </tr>\n    <tr>\n      <th>1</th>\n      <td>1000268201_693b08cb0e.jpg</td>\n      <td>A girl going into a wooden building .</td>\n    </tr>\n    <tr>\n      <th>2</th>\n      <td>1000268201_693b08cb0e.jpg</td>\n      <td>A little girl climbing into a wooden playhouse .</td>\n    </tr>\n    <tr>\n      <th>3</th>\n      <td>1000268201_693b08cb0e.jpg</td>\n      <td>A little girl climbing the stairs to her playh...</td>\n    </tr>\n    <tr>\n      <th>4</th>\n      <td>1000268201_693b08cb0e.jpg</td>\n      <td>A little girl in a pink dress going into a woo...</td>\n    </tr>\n  </tbody>\n</table>\n</div>"
     },
     "metadata": {},
     "execution_count": 26
    }
   ],
   "source": [
    "def load_data(data_path = \"dataF8k/captions.txt\"):\n",
    "    return pd.read_csv(data_path, header = 0)\n",
    "\n",
    "data = load_data()\n",
    "print(\"number of captions:\", data.shape[0])\n",
    "data.head()\n"
   ]
  },
  {
   "cell_type": "code",
   "execution_count": 27,
   "metadata": {},
   "outputs": [],
   "source": [
    "# add unique start word \">>>\" (stop word = \".\" already present in data)\n",
    "data[\"caption_with_start\"] = \">>> \" + data[\"caption\"].str.lower()\n",
    "# data.head()"
   ]
  },
  {
   "cell_type": "code",
   "execution_count": 28,
   "metadata": {},
   "outputs": [
    {
     "output_type": "execute_result",
     "data": {
      "text/plain": [
       "                       image  \\\n",
       "0  1000268201_693b08cb0e.jpg   \n",
       "1  1000268201_693b08cb0e.jpg   \n",
       "2  1000268201_693b08cb0e.jpg   \n",
       "3  1000268201_693b08cb0e.jpg   \n",
       "4  1000268201_693b08cb0e.jpg   \n",
       "\n",
       "                                             caption  \\\n",
       "0  A child in a pink dress is climbing up a set o...   \n",
       "1              A girl going into a wooden building .   \n",
       "2   A little girl climbing into a wooden playhouse .   \n",
       "3  A little girl climbing the stairs to her playh...   \n",
       "4  A little girl in a pink dress going into a woo...   \n",
       "\n",
       "                                  caption_with_start  \\\n",
       "0  >>> a child in a pink dress is climbing up a s...   \n",
       "1          >>> a girl going into a wooden building .   \n",
       "2  >>> a little girl climbing into a wooden playh...   \n",
       "3  >>> a little girl climbing the stairs to her p...   \n",
       "4  >>> a little girl in a pink dress going into a...   \n",
       "\n",
       "                                       token_caption  \n",
       "0  [2, 1, 43, 4, 1, 91, 171, 7, 120, 54, 1, 397, ...  \n",
       "1                [2, 1, 19, 316, 65, 1, 195, 118, 3]  \n",
       "2           [2, 1, 41, 19, 120, 65, 1, 195, 2437, 3]  \n",
       "3       [2, 1, 41, 19, 120, 5, 394, 21, 61, 2437, 3]  \n",
       "4  [2, 1, 41, 19, 4, 1, 91, 171, 316, 65, 1, 195, 3]  "
      ],
      "text/html": "<div>\n<style scoped>\n    .dataframe tbody tr th:only-of-type {\n        vertical-align: middle;\n    }\n\n    .dataframe tbody tr th {\n        vertical-align: top;\n    }\n\n    .dataframe thead th {\n        text-align: right;\n    }\n</style>\n<table border=\"1\" class=\"dataframe\">\n  <thead>\n    <tr style=\"text-align: right;\">\n      <th></th>\n      <th>image</th>\n      <th>caption</th>\n      <th>caption_with_start</th>\n      <th>token_caption</th>\n    </tr>\n  </thead>\n  <tbody>\n    <tr>\n      <th>0</th>\n      <td>1000268201_693b08cb0e.jpg</td>\n      <td>A child in a pink dress is climbing up a set o...</td>\n      <td>&gt;&gt;&gt; a child in a pink dress is climbing up a s...</td>\n      <td>[2, 1, 43, 4, 1, 91, 171, 7, 120, 54, 1, 397, ...</td>\n    </tr>\n    <tr>\n      <th>1</th>\n      <td>1000268201_693b08cb0e.jpg</td>\n      <td>A girl going into a wooden building .</td>\n      <td>&gt;&gt;&gt; a girl going into a wooden building .</td>\n      <td>[2, 1, 19, 316, 65, 1, 195, 118, 3]</td>\n    </tr>\n    <tr>\n      <th>2</th>\n      <td>1000268201_693b08cb0e.jpg</td>\n      <td>A little girl climbing into a wooden playhouse .</td>\n      <td>&gt;&gt;&gt; a little girl climbing into a wooden playh...</td>\n      <td>[2, 1, 41, 19, 120, 65, 1, 195, 2437, 3]</td>\n    </tr>\n    <tr>\n      <th>3</th>\n      <td>1000268201_693b08cb0e.jpg</td>\n      <td>A little girl climbing the stairs to her playh...</td>\n      <td>&gt;&gt;&gt; a little girl climbing the stairs to her p...</td>\n      <td>[2, 1, 41, 19, 120, 5, 394, 21, 61, 2437, 3]</td>\n    </tr>\n    <tr>\n      <th>4</th>\n      <td>1000268201_693b08cb0e.jpg</td>\n      <td>A little girl in a pink dress going into a woo...</td>\n      <td>&gt;&gt;&gt; a little girl in a pink dress going into a...</td>\n      <td>[2, 1, 41, 19, 4, 1, 91, 171, 316, 65, 1, 195, 3]</td>\n    </tr>\n  </tbody>\n</table>\n</div>"
     },
     "metadata": {},
     "execution_count": 28
    }
   ],
   "source": [
    "tokenizer = tf.keras.preprocessing.text.Tokenizer(filters = '') # don't filter punctuation\n",
    "tokenizer.fit_on_texts(data[\"caption_with_start\"])\n",
    "\n",
    "count_thres = 5\n",
    "low_count_words = [w for w,c in tokenizer.word_counts.items() if c < count_thres]\n",
    "for w in low_count_words:\n",
    "    del tokenizer.word_index[w]\n",
    "    del tokenizer.word_docs[w]\n",
    "    del tokenizer.word_counts[w]\n",
    "\n",
    "data[\"token_caption\"] = tokenizer.texts_to_sequences(data[\"caption_with_start\"])\n",
    "data.head()\n"
   ]
  },
  {
   "cell_type": "code",
   "execution_count": 29,
   "metadata": {},
   "outputs": [
    {
     "output_type": "stream",
     "name": "stdout",
     "text": [
      "number of captions with removed words: 8000\n"
     ]
    }
   ],
   "source": [
    "data[\"caption_from_token\"] = tokenizer.sequences_to_texts(data[\"token_caption\"])\n",
    "print(\"number of captions with removed words:\" , (data.query('caption_from_token != caption_with_start').shape[0]))"
   ]
  },
  {
   "cell_type": "code",
   "execution_count": null,
   "metadata": {},
   "outputs": [],
   "source": []
  }
 ]
}